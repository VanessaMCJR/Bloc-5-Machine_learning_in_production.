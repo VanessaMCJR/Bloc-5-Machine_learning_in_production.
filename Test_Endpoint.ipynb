{
 "cells": [
  {
   "cell_type": "markdown",
   "metadata": {},
   "source": [
    "# Test your endpoint\n",
    "\n",
    "This notebook present some tests to assert your endpoint. Feel free to complete those tests."
   ]
  },
  {
   "cell_type": "code",
   "execution_count": 1,
   "metadata": {},
   "outputs": [],
   "source": [
    "import requests"
   ]
  },
  {
   "cell_type": "code",
   "execution_count": 14,
   "metadata": {},
   "outputs": [],
   "source": [
    "# We have put the localhost URL as default, feel free to change it\n",
    "url = \"https://api-wine-quality-prediction.herokuapp.com/predict\""
   ]
  },
  {
   "cell_type": "code",
   "execution_count": 15,
   "metadata": {},
   "outputs": [],
   "source": [
    "# This a simple example of input\n",
    "input_simple = {\n",
    "    \"input\": [[7.0, 0.27, 0.36, 20.7, 0.045, 45.0, 170.0, 1.001, 3.0, 0.45, 8.8]]\n",
    "}"
   ]
  },
  {
   "cell_type": "code",
   "execution_count": 16,
   "metadata": {},
   "outputs": [
    {
     "name": "stdout",
     "output_type": "stream",
     "text": [
      "{'predict': [6.0]}\n"
     ]
    }
   ],
   "source": [
    "res = requests.post(url, json=input_simple)\n",
    "assert res.status_code == 200\n",
    "print(res.json())"
   ]
  },
  {
   "cell_type": "code",
   "execution_count": 17,
   "metadata": {},
   "outputs": [],
   "source": [
    "# This a example of input with several inputs\n",
    "input_multiple = {\n",
    "    \"input\": [[7.0, 0.27, 0.36, 20.7, 0.045, 45.0, 170.0, 1.001, 3.0, 0.45, 8.8],\n",
    "              [5.0, 0.98, 0.32, 18.9, 0.050, 75.0, 122.0, 0.401, 3.1, 0.21, 1.2]]\n",
    "}"
   ]
  },
  {
   "cell_type": "code",
   "execution_count": 18,
   "metadata": {},
   "outputs": [
    {
     "name": "stdout",
     "output_type": "stream",
     "text": [
      "{'predict': [6.0, 6.0]}\n"
     ]
    }
   ],
   "source": [
    "res = requests.post(url, json=input_multiple)\n",
    "assert res.status_code == 200\n",
    "print(res.json())"
   ]
  },
  {
   "cell_type": "code",
   "execution_count": 19,
   "metadata": {},
   "outputs": [],
   "source": [
    "# This a example of input with several inputs\n",
    "input_multiple2 = {\n",
    "    \"input\": [[7.0, 0.27, 0.36, 20.7, 0.045, 45.0, 170.0, 1.001, 3.0, 0.45, 8.8],\n",
    "           [11.8, 0.23, 0.38, 11.1, 0.034, 15.0, 123.0, 0.9997, 2.93, 0.55, 9.7],\n",
    "              [5.0, 0.98, 0.32, 18.9, 0.050, 75.0, 122.0, 0.401, 3.1, 0.21, 1.2],\n",
    "             [8.6, 0.42, 0.39, 1.8, 0.068, 6.0, 12.0, 0.99516, 3.35, 0.69, 11.7],\n",
    "              [5.0, 0.98, 0.32, 18.9, 0.050, 75.0, 122.0, 0.401, 3.1, 0.21, 1.2]]\n",
    "}                                                                                  "
   ]
  },
  {
   "cell_type": "code",
   "execution_count": 20,
   "metadata": {},
   "outputs": [
    {
     "name": "stdout",
     "output_type": "stream",
     "text": [
      "{'predict': [6.0, 3.0, 6.0, 8.0, 6.0]}\n"
     ]
    }
   ],
   "source": [
    "res = requests.post(url, json=input_multiple2)\n",
    "assert res.status_code == 200\n",
    "print(res.json())"
   ]
  },
  {
   "cell_type": "code",
   "execution_count": 21,
   "metadata": {},
   "outputs": [],
   "source": [
    "import pandas as pd\n",
    "\n",
    "X= pd.DataFrame(input_multiple)"
   ]
  },
  {
   "cell_type": "code",
   "execution_count": 22,
   "metadata": {},
   "outputs": [
    {
     "data": {
      "text/html": [
       "<div>\n",
       "<style scoped>\n",
       "    .dataframe tbody tr th:only-of-type {\n",
       "        vertical-align: middle;\n",
       "    }\n",
       "\n",
       "    .dataframe tbody tr th {\n",
       "        vertical-align: top;\n",
       "    }\n",
       "\n",
       "    .dataframe thead th {\n",
       "        text-align: right;\n",
       "    }\n",
       "</style>\n",
       "<table border=\"1\" class=\"dataframe\">\n",
       "  <thead>\n",
       "    <tr style=\"text-align: right;\">\n",
       "      <th></th>\n",
       "      <th>input</th>\n",
       "    </tr>\n",
       "  </thead>\n",
       "  <tbody>\n",
       "    <tr>\n",
       "      <th>0</th>\n",
       "      <td>[7.0, 0.27, 0.36, 20.7, 0.045, 45.0, 170.0, 1....</td>\n",
       "    </tr>\n",
       "    <tr>\n",
       "      <th>1</th>\n",
       "      <td>[5.0, 0.98, 0.32, 18.9, 0.05, 75.0, 122.0, 0.4...</td>\n",
       "    </tr>\n",
       "  </tbody>\n",
       "</table>\n",
       "</div>"
      ],
      "text/plain": [
       "                                               input\n",
       "0  [7.0, 0.27, 0.36, 20.7, 0.045, 45.0, 170.0, 1....\n",
       "1  [5.0, 0.98, 0.32, 18.9, 0.05, 75.0, 122.0, 0.4..."
      ]
     },
     "execution_count": 22,
     "metadata": {},
     "output_type": "execute_result"
    }
   ],
   "source": [
    "X\n"
   ]
  },
  {
   "cell_type": "code",
   "execution_count": 23,
   "metadata": {},
   "outputs": [],
   "source": [
    "\n",
    "X2= pd.DataFrame(input_multiple2)"
   ]
  },
  {
   "cell_type": "code",
   "execution_count": 24,
   "metadata": {},
   "outputs": [
    {
     "data": {
      "text/html": [
       "<div>\n",
       "<style scoped>\n",
       "    .dataframe tbody tr th:only-of-type {\n",
       "        vertical-align: middle;\n",
       "    }\n",
       "\n",
       "    .dataframe tbody tr th {\n",
       "        vertical-align: top;\n",
       "    }\n",
       "\n",
       "    .dataframe thead th {\n",
       "        text-align: right;\n",
       "    }\n",
       "</style>\n",
       "<table border=\"1\" class=\"dataframe\">\n",
       "  <thead>\n",
       "    <tr style=\"text-align: right;\">\n",
       "      <th></th>\n",
       "      <th>input</th>\n",
       "    </tr>\n",
       "  </thead>\n",
       "  <tbody>\n",
       "    <tr>\n",
       "      <th>0</th>\n",
       "      <td>[7.0, 0.27, 0.36, 20.7, 0.045, 45.0, 170.0, 1....</td>\n",
       "    </tr>\n",
       "    <tr>\n",
       "      <th>1</th>\n",
       "      <td>[11.8, 0.23, 0.38, 11.1, 0.034, 15.0, 123.0, 0...</td>\n",
       "    </tr>\n",
       "    <tr>\n",
       "      <th>2</th>\n",
       "      <td>[5.0, 0.98, 0.32, 18.9, 0.05, 75.0, 122.0, 0.4...</td>\n",
       "    </tr>\n",
       "    <tr>\n",
       "      <th>3</th>\n",
       "      <td>[8.6, 0.42, 0.39, 1.8, 0.068, 6.0, 12.0, 0.995...</td>\n",
       "    </tr>\n",
       "    <tr>\n",
       "      <th>4</th>\n",
       "      <td>[5.0, 0.98, 0.32, 18.9, 0.05, 75.0, 122.0, 0.4...</td>\n",
       "    </tr>\n",
       "  </tbody>\n",
       "</table>\n",
       "</div>"
      ],
      "text/plain": [
       "                                               input\n",
       "0  [7.0, 0.27, 0.36, 20.7, 0.045, 45.0, 170.0, 1....\n",
       "1  [11.8, 0.23, 0.38, 11.1, 0.034, 15.0, 123.0, 0...\n",
       "2  [5.0, 0.98, 0.32, 18.9, 0.05, 75.0, 122.0, 0.4...\n",
       "3  [8.6, 0.42, 0.39, 1.8, 0.068, 6.0, 12.0, 0.995...\n",
       "4  [5.0, 0.98, 0.32, 18.9, 0.05, 75.0, 122.0, 0.4..."
      ]
     },
     "execution_count": 24,
     "metadata": {},
     "output_type": "execute_result"
    }
   ],
   "source": [
    "X2"
   ]
  }
 ],
 "metadata": {
  "kernelspec": {
   "display_name": "Python 3.10.4 ('flask_env')",
   "language": "python",
   "name": "python3"
  },
  "language_info": {
   "codemirror_mode": {
    "name": "ipython",
    "version": 3
   },
   "file_extension": ".py",
   "mimetype": "text/x-python",
   "name": "python",
   "nbconvert_exporter": "python",
   "pygments_lexer": "ipython3",
   "version": "3.10.4"
  },
  "vscode": {
   "interpreter": {
    "hash": "babd5860b65dabb810f9491bbe243acf63bfe7d6d0061fb215fabecf003c76a4"
   }
  }
 },
 "nbformat": 4,
 "nbformat_minor": 4
}
